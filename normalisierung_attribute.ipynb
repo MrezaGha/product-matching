{
 "cells": [
  {
   "cell_type": "code",
   "execution_count": 42,
   "metadata": {},
   "outputs": [],
   "source": [
    "import pandas as pd\n",
    "from sklearn.feature_extraction.text import TfidfVectorizer\n",
    "from sklearn.cluster import KMeans\n",
    "import nltk\n",
    "import spacy\n",
    "from sklearn.cluster import DBSCAN\n",
    "from sklearn.preprocessing import StandardScaler\n"
   ]
  },
  {
   "cell_type": "code",
   "execution_count": 43,
   "metadata": {},
   "outputs": [
    {
     "data": {
      "text/html": [
       "<div>\n",
       "<style scoped>\n",
       "    .dataframe tbody tr th:only-of-type {\n",
       "        vertical-align: middle;\n",
       "    }\n",
       "\n",
       "    .dataframe tbody tr th {\n",
       "        vertical-align: top;\n",
       "    }\n",
       "\n",
       "    .dataframe thead th {\n",
       "        text-align: right;\n",
       "    }\n",
       "</style>\n",
       "<table border=\"1\" class=\"dataframe\">\n",
       "  <thead>\n",
       "    <tr style=\"text-align: right;\">\n",
       "      <th></th>\n",
       "      <th>Unnamed: 0</th>\n",
       "      <th>description_txt</th>\n",
       "      <th>category_name_sxt</th>\n",
       "      <th>colour_t</th>\n",
       "      <th>colours_txt</th>\n",
       "    </tr>\n",
       "  </thead>\n",
       "  <tbody>\n",
       "    <tr>\n",
       "      <th>0</th>\n",
       "      <td>0</td>\n",
       "      <td>produktdetails 100 % baumwolle weiter rundhals...</td>\n",
       "      <td>damen   damen   bekleidung   bekleidung   shir...</td>\n",
       "      <td>weißpetrol</td>\n",
       "      <td>weißpetrol</td>\n",
       "    </tr>\n",
       "    <tr>\n",
       "      <th>1</th>\n",
       "      <td>1</td>\n",
       "      <td>produktdetails schriftzug vorne rundhalsaussch...</td>\n",
       "      <td>damen   damen   bekleidung   bekleidung   shir...</td>\n",
       "      <td>schwarz</td>\n",
       "      <td>schwarz</td>\n",
       "    </tr>\n",
       "    <tr>\n",
       "      <th>2</th>\n",
       "      <td>2</td>\n",
       "      <td>produktdetails unifarbe kleiner ergeenomixx sc...</td>\n",
       "      <td>damen   damen   bekleidung   bekleidung   shir...</td>\n",
       "      <td>limone</td>\n",
       "      <td>limone</td>\n",
       "    </tr>\n",
       "    <tr>\n",
       "      <th>3</th>\n",
       "      <td>3</td>\n",
       "      <td>produktdetails blumenmuster rundhalsausschnitt...</td>\n",
       "      <td>damen   damen   bekleidung   bekleidung   shir...</td>\n",
       "      <td>schwarzrosa</td>\n",
       "      <td>schwarzrosa schwarz bedruckt</td>\n",
       "    </tr>\n",
       "    <tr>\n",
       "      <th>4</th>\n",
       "      <td>4</td>\n",
       "      <td>produktdetails blumenmuster rundhalsausschnitt...</td>\n",
       "      <td>damen   damen   bekleidung   bekleidung   shir...</td>\n",
       "      <td>schwarz bedruckt</td>\n",
       "      <td>schwarzrosa schwarz bedruckt</td>\n",
       "    </tr>\n",
       "    <tr>\n",
       "      <th>5</th>\n",
       "      <td>5</td>\n",
       "      <td>produktdetails hoher baumwollanteil stretchant...</td>\n",
       "      <td>damen   damen   bekleidung   bekleidung   shir...</td>\n",
       "      <td>dunkelrosa</td>\n",
       "      <td>dunkelrosa dunkelblau koralle</td>\n",
       "    </tr>\n",
       "    <tr>\n",
       "      <th>6</th>\n",
       "      <td>6</td>\n",
       "      <td>produktdetails hoher baumwollanteil stretchant...</td>\n",
       "      <td>damen   damen   bekleidung   bekleidung   shir...</td>\n",
       "      <td>dunkelblau</td>\n",
       "      <td>dunkelrosa dunkelblau koralle</td>\n",
       "    </tr>\n",
       "    <tr>\n",
       "      <th>7</th>\n",
       "      <td>7</td>\n",
       "      <td>produktdetails hoher baumwollanteil stretchant...</td>\n",
       "      <td>damen   damen   bekleidung   bekleidung   shir...</td>\n",
       "      <td>koralle</td>\n",
       "      <td>dunkelrosa dunkelblau koralle</td>\n",
       "    </tr>\n",
       "    <tr>\n",
       "      <th>8</th>\n",
       "      <td>8</td>\n",
       "      <td>produktdetails unifarbe rundhalsausschnitt hoh...</td>\n",
       "      <td>damen   damen   bekleidung   bekleidung   shir...</td>\n",
       "      <td>weiß</td>\n",
       "      <td>weiß</td>\n",
       "    </tr>\n",
       "    <tr>\n",
       "      <th>9</th>\n",
       "      <td>9</td>\n",
       "      <td>produktdetails hoher baumwollanteil stretchant...</td>\n",
       "      <td>damen   damen   bekleidung   bekleidung   shir...</td>\n",
       "      <td>dunkelblau</td>\n",
       "      <td>dunkelblau senfgelb flieder</td>\n",
       "    </tr>\n",
       "  </tbody>\n",
       "</table>\n",
       "</div>"
      ],
      "text/plain": [
       "   Unnamed: 0                                    description_txt  \\\n",
       "0           0  produktdetails 100 % baumwolle weiter rundhals...   \n",
       "1           1  produktdetails schriftzug vorne rundhalsaussch...   \n",
       "2           2  produktdetails unifarbe kleiner ergeenomixx sc...   \n",
       "3           3  produktdetails blumenmuster rundhalsausschnitt...   \n",
       "4           4  produktdetails blumenmuster rundhalsausschnitt...   \n",
       "5           5  produktdetails hoher baumwollanteil stretchant...   \n",
       "6           6  produktdetails hoher baumwollanteil stretchant...   \n",
       "7           7  produktdetails hoher baumwollanteil stretchant...   \n",
       "8           8  produktdetails unifarbe rundhalsausschnitt hoh...   \n",
       "9           9  produktdetails hoher baumwollanteil stretchant...   \n",
       "\n",
       "                                   category_name_sxt          colour_t  \\\n",
       "0  damen   damen   bekleidung   bekleidung   shir...        weißpetrol   \n",
       "1  damen   damen   bekleidung   bekleidung   shir...           schwarz   \n",
       "2  damen   damen   bekleidung   bekleidung   shir...            limone   \n",
       "3  damen   damen   bekleidung   bekleidung   shir...       schwarzrosa   \n",
       "4  damen   damen   bekleidung   bekleidung   shir...  schwarz bedruckt   \n",
       "5  damen   damen   bekleidung   bekleidung   shir...        dunkelrosa   \n",
       "6  damen   damen   bekleidung   bekleidung   shir...        dunkelblau   \n",
       "7  damen   damen   bekleidung   bekleidung   shir...           koralle   \n",
       "8  damen   damen   bekleidung   bekleidung   shir...              weiß   \n",
       "9  damen   damen   bekleidung   bekleidung   shir...        dunkelblau   \n",
       "\n",
       "                     colours_txt  \n",
       "0                     weißpetrol  \n",
       "1                        schwarz  \n",
       "2                         limone  \n",
       "3   schwarzrosa schwarz bedruckt  \n",
       "4   schwarzrosa schwarz bedruckt  \n",
       "5  dunkelrosa dunkelblau koralle  \n",
       "6  dunkelrosa dunkelblau koralle  \n",
       "7  dunkelrosa dunkelblau koralle  \n",
       "8                           weiß  \n",
       "9    dunkelblau senfgelb flieder  "
      ]
     },
     "execution_count": 43,
     "metadata": {},
     "output_type": "execute_result"
    }
   ],
   "source": [
    "data_path = r'/Users/mohammadrezaghassemzadeh/Desktop/p-matching/product-matching/kik_datenbereinigt.xlsx'\n",
    "data = pd.read_excel(data_path)\n",
    "data.head(10)"
   ]
  },
  {
   "cell_type": "code",
   "execution_count": 44,
   "metadata": {},
   "outputs": [],
   "source": [
    "import matplotlib.pyplot as plt\n",
    "from sklearn.decomposition import PCA\n",
    "import numpy as np\n",
    "\n",
    "def plot_clusters(data, labels):\n",
    "    # Reduzieren der Dimensionalität auf 2D für die Visualisierung, falls notwendig\n",
    "    if data.shape[1] > 2:\n",
    "        pca = PCA(n_components=2)\n",
    "        reduced_data = pca.fit_transform(data)\n",
    "    else:\n",
    "        reduced_data = data\n",
    "\n",
    "    # Einzigartige Labels identifizieren\n",
    "    unique_labels = set(labels)\n",
    "    colors = [plt.cm.Spectral(each) for each in np.linspace(0, 1, len(unique_labels))]\n",
    "\n",
    "    for k, col in zip(unique_labels, colors):\n",
    "        if k == -1:\n",
    "            # Schwarz für Rauschen oder ungelabelte Daten\n",
    "            col = [0, 0, 0, 1]\n",
    "\n",
    "        class_member_mask = (labels == k)\n",
    "\n",
    "        # Plotten der Datenpunkte\n",
    "        xy = reduced_data[class_member_mask]\n",
    "        plt.plot(xy[:, 0], xy[:, 1], 'o', markerfacecolor=tuple(col), markeredgecolor='k', markersize=6)\n",
    "\n",
    "    plt.title('Cluster Visualisierung')\n",
    "    plt.xlabel('Komponente 1')\n",
    "    plt.ylabel('Komponente 2')\n",
    "    plt.show()\n"
   ]
  },
  {
   "cell_type": "code",
   "execution_count": 45,
   "metadata": {},
   "outputs": [],
   "source": [
    "def tf_idf(df, columns: list[str]):\n",
    "    # TF-IDF-Anwendung, die Daten werden in Vekroren (numerische) umgewandelt. \n",
    "    # TF => Misst wie häufig Wörter in einem Datensatz vorkommen, woebi Wörter die häufiger vokommen,als wichtger angesehen werden.\n",
    "    # IDF => Misst wie wichtig ein Wort ist, inedm es berücksichtigt wird, wie oft ein Wort in der gesamten Korpus vorkommt, seltene Wörter werden als wichtug gestuft. \n",
    "    # param df: Data Frame, Daten\n",
    "    # param column: Spalte, wofür das angewendet werden soll. \n",
    "    vectorizer = TfidfVectorizer()\n",
    "    result = {}\n",
    "\n",
    "    for column in columns:\n",
    "        # Stellen Sie sicher, dass die Daten als String vorliegen\n",
    "        text_data = df[column].astype(str)\n",
    "        X = vectorizer.fit_transform(text_data)\n",
    "        result[column] = X\n",
    "\n",
    "    return result"
   ]
  },
  {
   "cell_type": "code",
   "execution_count": 46,
   "metadata": {},
   "outputs": [
    {
     "name": "stdout",
     "output_type": "stream",
     "text": [
      "{'description_txt': <99x143 sparse matrix of type '<class 'numpy.float64'>'\n",
      "\twith 1479 stored elements in Compressed Sparse Row format>}\n"
     ]
    }
   ],
   "source": [
    "# Vektoriesierung\n",
    "column = ['description_txt']\n",
    "result_tf_idf = tf_idf(data,column)\n",
    "\n",
    "print(result_tf_idf)"
   ]
  },
  {
   "cell_type": "code",
   "execution_count": 47,
   "metadata": {},
   "outputs": [],
   "source": [
    "import numpy as np\n",
    "\n",
    "def dbscan(tfidf_dict, column_name):\n",
    "    # Extrahieren der TF-IDF-Matrix für eine spezifische Spalte\n",
    "    tfidf_matrix = tfidf_dict[column_name]\n",
    "\n",
    "    # Umwandlung der Sparse-Matrix in ein numpy Array\n",
    "    dense_tfidf_array = np.array(tfidf_matrix.todense())\n",
    "\n",
    "    # Skalierung des numpy Arrays\n",
    "    X_scaled = StandardScaler().fit_transform(dense_tfidf_array)\n",
    "\n",
    "   \n",
    "    dbscan_model = DBSCAN(eps=0.5, min_samples=5)\n",
    "    dbscan_clusters = dbscan_model.fit_predict(X_scaled)\n",
    "\n",
    "    return dbscan_clusters, X_scaled\n"
   ]
  },
  {
   "cell_type": "code",
   "execution_count": 48,
   "metadata": {},
   "outputs": [
    {
     "data": {
      "image/png": "[encoded data removed]",
      "text/plain": [
       "<Figure size 640x480 with 1 Axes>"
      ]
     },
     "metadata": {},
     "output_type": "display_data"
    },
    {
     "name": "stdout",
     "output_type": "stream",
     "text": [
      "[-1 -1 -1 -1 -1 -1 -1 -1 -1 -1 -1 -1 -1 -1 -1 -1 -1 -1 -1 -1 -1 -1 -1 -1\n",
      " -1 -1 -1 -1 -1 -1 -1 -1 -1 -1 -1 -1 -1 -1 -1 -1 -1 -1 -1 -1 -1 -1 -1 -1\n",
      " -1 -1 -1 -1 -1 -1 -1 -1 -1 -1 -1  0 -1  0  0  0  0 -1 -1 -1  1  1  1  1\n",
      "  1  1  1  1 -1 -1 -1 -1 -1 -1 -1 -1 -1 -1 -1 -1 -1 -1 -1 -1 -1 -1 -1 -1\n",
      " -1 -1 -1]\n"
     ]
    }
   ],
   "source": [
    "columns = 'description_txt'\n",
    "# Ausgab: -1 -> steht für ausreiser oder rauschen \n",
    "# 0 & 1 steht für Label der Cluster die durch DBSCAN indentifiziert würden\n",
    "\n",
    "result_dbscan, X_scaled = dbscan(result_tf_idf,columns)\n",
    "\n",
    "data['cluster_dbscan'] = result_dbscan\n",
    "\n",
    "plot_clusters(X_scaled, result_dbscan)\n",
    "\n",
    "print(result_dbscan)"
   ]
  },
  {
   "cell_type": "code",
   "execution_count": 49,
   "metadata": {},
   "outputs": [],
   "source": [
    "def k_means_clustering(data, tdidf_value):\n",
    "    # K_means_clustering Methode\n",
    "    # Anwendung von K-Means Clustering\n",
    "    # param tfidf_value: dieses Wert kommt aus der Methode tf_idf und ist hierbei das ergebnis der MEthode\n",
    "\n",
    "    # Identifizierung der dichten Cluster von DBSCAN (ohne Ausreißer)\n",
    "    dichte_cluster_indizes = data['cluster_dbscan'] != -1\n",
    "    X_dicht = X_scaled[dichte_cluster_indizes]\n",
    "\n",
    "    # Anwendung von K-Means auf die dichten Cluster\n",
    "    kmeans = KMeans(n_clusters=5)  # Anpassung der Clusteranzahl\n",
    "    kmeans_clusters = kmeans.fit_predict(X_dicht)\n",
    "\n",
    "    data.loc[dichte_cluster_indizes, 'cluster_kmeans'] = kmeans_clusters\n",
    "\n",
    "    return kmeans_clusters, "
   ]
  },
  {
   "cell_type": "code",
   "execution_count": 50,
   "metadata": {},
   "outputs": [
    {
     "name": "stdout",
     "output_type": "stream",
     "text": [
      "(array([0, 0, 0, 0, 0, 1, 1, 1, 4, 4, 4, 4, 1], dtype=int32),)\n"
     ]
    },
    {
     "name": "stderr",
     "output_type": "stream",
     "text": [
      "/Users/mohammadrezaghassemzadeh/Desktop/p-matching/product-matching/bachelorarbeit/lib/python3.9/site-packages/sklearn/base.py:1351: ConvergenceWarning: Number of distinct clusters (3) found smaller than n_clusters (5). Possibly due to duplicate points in X.\n",
      "  return fit_method(estimator, *args, **kwargs)\n"
     ]
    }
   ],
   "source": [
    "result_k_mean = k_means_clustering(data, result_tf_idf)\n",
    "print(result_k_mean)\n"
   ]
  },
  {
   "cell_type": "code",
   "execution_count": 56,
   "metadata": {},
   "outputs": [
    {
     "name": "stdout",
     "output_type": "stream",
     "text": [
      "    Unnamed: 0.1  Unnamed: 0  \\\n",
      "0             59          59   \n",
      "1             61          61   \n",
      "2             62          62   \n",
      "3             63          63   \n",
      "4             64          64   \n",
      "5             68          68   \n",
      "6             69          69   \n",
      "7             70          70   \n",
      "8             71          71   \n",
      "9             72          72   \n",
      "10            73          73   \n",
      "11            74          74   \n",
      "12            75          75   \n",
      "\n",
      "                                      description_txt  \\\n",
      "0   produktdetails komplett bedruckt rundhalsaussc...   \n",
      "1   produktdetails komplett bedruckt rundhalsaussc...   \n",
      "2   produktdetails komplett bedruckt rundhalsaussc...   \n",
      "3   produktdetails komplett bedruckt rundhalsaussc...   \n",
      "4   produktdetails komplett bedruckt rundhalsaussc...   \n",
      "5   produktdetails unifarbe v ausschnitt kurzarm g...   \n",
      "6   produktdetails unifarbe v ausschnitt kurzarm g...   \n",
      "7   produktdetails unifarbe v ausschnitt kurzarm g...   \n",
      "8   produktdetails unifarbe v ausschnitt kurzarm g...   \n",
      "9   produktdetails unifarbe v ausschnitt kurzarm g...   \n",
      "10  produktdetails unifarbe v ausschnitt kurzarm g...   \n",
      "11  produktdetails unifarbe v ausschnitt kurzarm g...   \n",
      "12  produktdetails unifarbe v ausschnitt kurzarm g...   \n",
      "\n",
      "                                    category_name_sxt             colour_t  \\\n",
      "0   damen   damen   bekleidung   bekleidung   shir...        rosa bedruckt   \n",
      "1   damen   damen   bekleidung   bekleidung   shir...        blau bedruckt   \n",
      "2   damen   damen   bekleidung   bekleidung   shir...  dunkelblau bedruckt   \n",
      "3   damen   damen   bekleidung   bekleidung   shir...     schwarz bedruckt   \n",
      "4   damen   damen   bekleidung   bekleidung   shir...       leopardendruck   \n",
      "5   damen   damen   bekleidung   bekleidung   shir...          naturfarben   \n",
      "6   damen   damen   bekleidung   bekleidung   shir...            dunkelrot   \n",
      "7   damen   damen   bekleidung   bekleidung   shir...                 rosa   \n",
      "8   damen   damen   bekleidung   bekleidung   shir...                 blau   \n",
      "9   damen   damen   bekleidung   bekleidung   shir...                  rot   \n",
      "10  damen   damen   bekleidung   bekleidung   shir...           dunkelblau   \n",
      "11  damen   damen   bekleidung   bekleidung   shir...             hellblau   \n",
      "12  damen   damen   bekleidung   bekleidung   shir...              altrosa   \n",
      "\n",
      "                                          colours_txt  cluster_dbscan  \\\n",
      "0   rosa bedruckt blumendruck blau bedruckt dunkel...               0   \n",
      "1   rosa bedruckt blumendruck blau bedruckt dunkel...               0   \n",
      "2   rosa bedruckt blumendruck blau bedruckt dunkel...               0   \n",
      "3   rosa bedruckt blumendruck blau bedruckt dunkel...               0   \n",
      "4   rosa bedruckt blumendruck blau bedruckt dunkel...               0   \n",
      "5   naturfarben dunkelrot rosa blau rot dunkelblau...               1   \n",
      "6   naturfarben dunkelrot rosa blau rot dunkelblau...               1   \n",
      "7   naturfarben dunkelrot rosa blau rot dunkelblau...               1   \n",
      "8   naturfarben dunkelrot rosa blau rot dunkelblau...               1   \n",
      "9   naturfarben dunkelrot rosa blau rot dunkelblau...               1   \n",
      "10  naturfarben dunkelrot rosa blau rot dunkelblau...               1   \n",
      "11  naturfarben dunkelrot rosa blau rot dunkelblau...               1   \n",
      "12  naturfarben dunkelrot rosa blau rot dunkelblau...               1   \n",
      "\n",
      "    cluster_kmeans  \n",
      "0              0.0  \n",
      "1              0.0  \n",
      "2              0.0  \n",
      "3              0.0  \n",
      "4              0.0  \n",
      "5              1.0  \n",
      "6              1.0  \n",
      "7              1.0  \n",
      "8              4.0  \n",
      "9              4.0  \n",
      "10             4.0  \n",
      "11             4.0  \n",
      "12             1.0  \n"
     ]
    }
   ],
   "source": [
    "\n",
    "clustered_data = data[data['cluster_dbscan'] != -1]\n",
    "\n",
    "#print(clustered_data)\n",
    "clustered_data.to_excel('/Users/mohammadrezaghassemzadeh/Desktop/p-matching/product-matching/Daten_clustert.xlsx')\n",
    "clustered_data.to_csv('/Users/mohammadrezaghassemzadeh/Desktop/p-matching/product-matching/Daten_clustert.csv')\n",
    "daten = pd.read_csv('/Users/mohammadrezaghassemzadeh/Desktop/p-matching/product-matching/Daten_clustert.csv')\n",
    "print(daten)"
   ]
  },
  {
   "cell_type": "code",
   "execution_count": null,
   "metadata": {},
   "outputs": [],
   "source": []
  }
 ],
 "metadata": {
  "kernelspec": {
   "display_name": "Python 3.9.13 ('bachelorarbeit': venv)",
   "language": "python",
   "name": "python3"
  },
  "language_info": {
   "codemirror_mode": {
    "name": "ipython",
    "version": 3
   },
   "file_extension": ".py",
   "mimetype": "text/x-python",
   "name": "python",
   "nbconvert_exporter": "python",
   "pygments_lexer": "ipython3",
   "version": "3.9.13"
  },
  "orig_nbformat": 4,
  "vscode": {
   "interpreter": {
    "hash": "3a6dcd5c1c1941ffa60e357ee1f7133a2c552a4a7fb1e2a5b3b962f361695b81"
   }
  }
 },
 "nbformat": 4,
 "nbformat_minor": 2
}
