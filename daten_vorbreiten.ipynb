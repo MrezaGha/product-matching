{
 "cells": [
  {
   "cell_type": "code",
   "execution_count": 42,
   "metadata": {},
   "outputs": [],
   "source": [
    "from sklearn.impute import SimpleImputer\n",
    "import pandas as pd \n",
    "import csv\n"
   ]
  },
  {
   "cell_type": "code",
   "execution_count": 43,
   "metadata": {},
   "outputs": [],
   "source": [
    "#daten pfad \n",
    "data_path = r'/Users/mohammadrezaghassemzadeh/Downloads/Kik 1.xlsx'\n",
    "#daten auslesen\n",
    "data = pd.read_excel(data_path)"
   ]
  },
  {
   "cell_type": "code",
   "execution_count": 44,
   "metadata": {},
   "outputs": [
    {
     "name": "stdout",
     "output_type": "stream",
     "text": [
      "       r            last_modified_date        sku_s  promotion_s  \\\n",
      "0    Kik  Thu Jan 18 10:00:11 CET 2024  11763631262          NaN   \n",
      "1    Kik  Thu Jan 18 10:00:11 CET 2024  11713051000          NaN   \n",
      "2    Kik  Thu Jan 18 10:00:11 CET 2024  11711551418          NaN   \n",
      "3    Kik  Thu Jan 18 10:00:11 CET 2024  11765391026          NaN   \n",
      "4    Kik  Thu Jan 18 10:00:11 CET 2024  11765391004          NaN   \n",
      "..   ...                           ...          ...          ...   \n",
      "96   Kik  Thu Jan 18 10:00:11 CET 2024  11713021317          NaN   \n",
      "97   Kik  Thu Jan 18 10:00:11 CET 2024  11713021541          NaN   \n",
      "98   Kik  Thu Jan 18 10:00:11 CET 2024  11713021002          NaN   \n",
      "99   Kik  Thu Jan 18 10:00:11 CET 2024  11764951416          NaN   \n",
      "100  Kik  Thu Jan 18 10:00:11 CET 2024  11684951122          NaN   \n",
      "\n",
      "     artikelstammnummer_s                                              url_s  \\\n",
      "0                 1176363  https://www.kik.de/p/shirt-mit-weitem-rundhals...   \n",
      "1                 1171305  https://www.kik.de/p/shirt-3-4-arm-schwarz-100...   \n",
      "2                 1171155  https://www.kik.de/p/einfarbiges-sport-shirt-l...   \n",
      "3                 1176539  https://www.kik.de/p/gebl%C3%BCmtes-shirt-vers...   \n",
      "4                 1176539  https://www.kik.de/p/gebl%C3%BCmtes-shirt-vers...   \n",
      "..                    ...                                                ...   \n",
      "96                1171302  https://www.kik.de/p/shirt-3-4-arm-natur-gestr...   \n",
      "97                1171302  https://www.kik.de/p/shirt-3-4-arm-natur-gestr...   \n",
      "98                1171302  https://www.kik.de/p/shirt-3-4-arm-natur-gestr...   \n",
      "99                1176495  https://www.kik.de/p/basic-tanktop-stretchante...   \n",
      "100               1168495  https://www.kik.de/p/t-shirt-rundhalsausschnit...   \n",
      "\n",
      "                                        images_url_txt  title_t  \\\n",
      "0    https://media.kik.de/images/1176363_8213_HB_M_...      NaN   \n",
      "1    https://media.kik.de/images/1171305_1000_HB_M_...      NaN   \n",
      "2    https://media.kik.de/images/1171155_1418_HB_M_...      NaN   \n",
      "3    https://media.kik.de/images/1176539_1026_HB_M_...      NaN   \n",
      "4    https://media.kik.de/images/1176539_1004_HB_M_...      NaN   \n",
      "..                                                 ...      ...   \n",
      "96   https://media.kik.de/images/1171302_1317_HB_M_...      NaN   \n",
      "97   https://media.kik.de/images/1171302_1541_HB_M_...      NaN   \n",
      "98   https://media.kik.de/images/1171302_1002_HB_M_...      NaN   \n",
      "99   https://media.kik.de/images/1176495_1416_HB_M_...      NaN   \n",
      "100  https://media.kik.de/images/1168495_1122_HB_M_...      NaN   \n",
      "\n",
      "                                     category_name_sxt  \\\n",
      "0    Damen - Damen - Bekleidung - Bekleidung - Shir...   \n",
      "1    Damen - Damen - Bekleidung - Bekleidung - Shir...   \n",
      "2    Damen - Damen - Bekleidung - Bekleidung - Shir...   \n",
      "3    Damen - Damen - Bekleidung - Bekleidung - Shir...   \n",
      "4    Damen - Damen - Bekleidung - Bekleidung - Shir...   \n",
      "..                                                 ...   \n",
      "96   Damen - Damen - Bekleidung - Bekleidung - Shir...   \n",
      "97   Damen - Damen - Bekleidung - Bekleidung - Shir...   \n",
      "98   Damen - Damen - Bekleidung - Bekleidung - Shir...   \n",
      "99   Damen - Damen - Bekleidung - Bekleidung - Shir...   \n",
      "100  Damen - Damen - Bekleidung - Bekleidung - Shir...   \n",
      "\n",
      "                                       description_txt  ...  \\\n",
      "0    Produktdetails|100 % Baumwolle|Weiter Rundhals...  ...   \n",
      "1    Produktdetails|Schriftzug vorne|Rundhalsaussch...  ...   \n",
      "2    Produktdetails|Unifarbe|Kleiner Ergeenomixx-Sc...  ...   \n",
      "3    Produktdetails|Blumenmuster|Rundhalsausschnitt...  ...   \n",
      "4    Produktdetails|Blumenmuster|Rundhalsausschnitt...  ...   \n",
      "..                                                 ...  ...   \n",
      "96   Produktdetails|Streifenmuster|Rundhalsausschni...  ...   \n",
      "97   Produktdetails|Streifenmuster|Rundhalsausschni...  ...   \n",
      "98   Produktdetails|Streifenmuster|Rundhalsausschni...  ...   \n",
      "99   Produktdetails|Hoher Baumwollanteil|Stretchant...  ...   \n",
      "100  Produktdetails|Melangeoptik|Rundhalsausschnitt...  ...   \n",
      "\n",
      "                                           colours_txt  colour_count_i  \\\n",
      "0                                          weiß/petrol               1   \n",
      "1                                              schwarz               1   \n",
      "2                                               limone               1   \n",
      "3                        schwarz/rosa|schwarz bedruckt               2   \n",
      "4                        schwarz/rosa|schwarz bedruckt               2   \n",
      "..                                                 ...             ...   \n",
      "96   natur gestreift|rot gestreift|dunkelblau gestr...               5   \n",
      "97   natur gestreift|rot gestreift|dunkelblau gestr...               5   \n",
      "98   natur gestreift|rot gestreift|dunkelblau gestr...               5   \n",
      "99                         dunkelblau|senfgelb|flieder               3   \n",
      "100  khaki melange|hellgrau melange|anthrazit melan...               4   \n",
      "\n",
      "    brand_s customer_rating_s stars_s energyEfficiency_s  \\\n",
      "0       NaN               NaN     NaN                NaN   \n",
      "1       NaN               NaN     NaN                NaN   \n",
      "2       NaN               NaN     NaN                NaN   \n",
      "3       NaN               NaN     NaN                NaN   \n",
      "4       NaN               NaN     NaN                NaN   \n",
      "..      ...               ...     ...                ...   \n",
      "96      NaN               NaN     NaN                NaN   \n",
      "97      NaN               NaN     NaN                NaN   \n",
      "98      NaN               NaN     NaN                NaN   \n",
      "99      NaN               NaN     NaN                NaN   \n",
      "100     NaN               NaN     NaN                NaN   \n",
      "\n",
      "               deliveryStatus_s category_name_detail_s  \\\n",
      "0    Lieferung in 2-5 Werktagen                    NaN   \n",
      "1    Lieferung in 2-5 Werktagen                    NaN   \n",
      "2    Lieferung in 2-5 Werktagen                    NaN   \n",
      "3    Lieferung in 2-5 Werktagen                    NaN   \n",
      "4    Lieferung in 2-5 Werktagen                    NaN   \n",
      "..                          ...                    ...   \n",
      "96   Lieferung in 2-5 Werktagen                    NaN   \n",
      "97   Lieferung in 2-5 Werktagen                    NaN   \n",
      "98   Lieferung in 2-5 Werktagen                    NaN   \n",
      "99   Lieferung in 2-5 Werktagen                    NaN   \n",
      "100  Lieferung in 2-5 Werktagen                    NaN   \n",
      "\n",
      "                                      category_url_sxt  EAN_s  \n",
      "0    https://www.kik.de/c/damen/damen-bekleidung-sh...    NaN  \n",
      "1    https://www.kik.de/c/damen/damen-bekleidung-sh...    NaN  \n",
      "2    https://www.kik.de/c/damen/damen-bekleidung-sh...    NaN  \n",
      "3    https://www.kik.de/c/damen/damen-bekleidung-sh...    NaN  \n",
      "4    https://www.kik.de/c/damen/damen-bekleidung-sh...    NaN  \n",
      "..                                                 ...    ...  \n",
      "96   https://www.kik.de/c/damen/damen-bekleidung-sh...    NaN  \n",
      "97   https://www.kik.de/c/damen/damen-bekleidung-sh...    NaN  \n",
      "98   https://www.kik.de/c/damen/damen-bekleidung-sh...    NaN  \n",
      "99   https://www.kik.de/c/damen/damen-bekleidung-sh...    NaN  \n",
      "100  https://www.kik.de/c/damen/damen-bekleidung-sh...    NaN  \n",
      "\n",
      "[101 rows x 27 columns]\n"
     ]
    }
   ],
   "source": [
    "print(data)"
   ]
  },
  {
   "cell_type": "code",
   "execution_count": 45,
   "metadata": {},
   "outputs": [],
   "source": [
    "#duplilate löschen\n",
    "duplicate_rows = data[data.duplicated(keep='first')]\n",
    "cleaned_duplicate_data = data.drop_duplicates(keep='first')"
   ]
  },
  {
   "cell_type": "code",
   "execution_count": 46,
   "metadata": {},
   "outputs": [],
   "source": [
    "#Änderungen und duplicate in Excel dateien speichern\n",
    "duplicate_rows.to_excel('/Users/mohammadrezaghassemzadeh/Desktop/p-matching/product-matching/kik_datenduplicate.xlsx')\n",
    "cleaned_duplicate_data.to_excel('/Users/mohammadrezaghassemzadeh/Desktop/p-matching/product-matching/kik_datenbereinigt.xlsx')"
   ]
  },
  {
   "cell_type": "code",
   "execution_count": 47,
   "metadata": {},
   "outputs": [
    {
     "name": "stderr",
     "output_type": "stream",
     "text": [
      "/var/folders/ts/4_j3m5qs2wvgc9jjm_yb5p1h0000gn/T/ipykernel_5370/1586505732.py:4: SettingWithCopyWarning: \n",
      "A value is trying to be set on a copy of a slice from a DataFrame.\n",
      "Try using .loc[row_indexer,col_indexer] = value instead\n",
      "\n",
      "See the caveats in the documentation: https://pandas.pydata.org/pandas-docs/stable/user_guide/indexing.html#returning-a-view-versus-a-copy\n",
      "  cleaned_duplicate_data[col] = cleaned_duplicate_data[col].str.lower().str.replace(r'[\\|\\-]', ' ', regex=True)\n"
     ]
    }
   ],
   "source": [
    "#Alles in Kleinbuchstaben umwandeln und einige sonderzeichen durch ' ' ersetzen \n",
    "for col in cleaned_duplicate_data.columns:\n",
    "    if cleaned_duplicate_data[col].dtype == 'object':\n",
    "        cleaned_duplicate_data[col] = cleaned_duplicate_data[col].str.lower().str.replace(r'[\\|\\-]', ' ', regex=True)\n",
    "        \n",
    "cleaned_duplicate_data.to_excel('/Users/mohammadrezaghassemzadeh/Desktop/p-matching/product-matching/kik_datenbereinigt.xlsx')"
   ]
  },
  {
   "cell_type": "code",
   "execution_count": 48,
   "metadata": {},
   "outputs": [],
   "source": [
    "#Spalten = null löschen\n",
    "cleaned_duplicate_data = cleaned_duplicate_data.loc[:, (data != '').any(axis=0)]\n",
    "cleaned_duplicate_data.to_excel('/Users/mohammadrezaghassemzadeh/Desktop/p-matching/product-matching/kik_datenbereinigt.xlsx')"
   ]
  },
  {
   "cell_type": "code",
   "execution_count": 49,
   "metadata": {},
   "outputs": [],
   "source": [
    "def excel_to_detailed_csv(excel_path, csv_path):\n",
    "\n",
    "    df = pd.read_excel(excel_path)\n",
    "    \n",
    "    with open(csv_path, mode='w', encoding='utf-8', newline='') as file:\n",
    "        for i, row in df.iterrows():\n",
    "            #String mit Spaltennamen und dazugehörige Werte \n",
    "            row_data = [f'{col}: {row[col] if pd.notnull(row[col]) else \"-\"}' for col in df.columns]\n",
    "           \n",
    "            file.write(','.join(row_data))\n",
    "            file.write('\\n') "
   ]
  },
  {
   "cell_type": "code",
   "execution_count": null,
   "metadata": {},
   "outputs": [],
   "source": [
    "excel_to_detailed_csv('/Users/mohammadrezaghassemzadeh/Desktop/p-matching/product-matching/kik_datenbereinigt.xlsx',\n",
    "                    '/Users/mohammadrezaghassemzadeh/Desktop/p-matching/product-matching/kik_datenbereinigt.csv')"
   ]
  }
 ],
 "metadata": {
  "kernelspec": {
   "display_name": "Python 3.9.13 ('venv': venv)",
   "language": "python",
   "name": "python3"
  },
  "language_info": {
   "codemirror_mode": {
    "name": "ipython",
    "version": 3
   },
   "file_extension": ".py",
   "mimetype": "text/x-python",
   "name": "python",
   "nbconvert_exporter": "python",
   "pygments_lexer": "ipython3",
   "version": "3.9.13"
  },
  "orig_nbformat": 4,
  "vscode": {
   "interpreter": {
    "hash": "af0e9b308600840be62f6b5445b64f15645cedfe8f09b67fdf031c9c26778b5a"
   }
  }
 },
 "nbformat": 4,
 "nbformat_minor": 2
}
