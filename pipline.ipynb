{
 "cells": [
  {
   "cell_type": "code",
   "execution_count": 20,
   "metadata": {},
   "outputs": [],
   "source": [
    "from sentence_transformers import SentenceTransformer\n",
    "from sklearn.model_selection import train_test_split\n",
    "from sklearn.svm import SVC\n",
    "from sklearn.metrics import classification_report\n",
    "import numpy as np\n",
    "import random\n",
    "import pandas as pd\n",
    "from sklearn.pipeline import Pipeline\n",
    "from sklearn.preprocessing import StandardScaler\n",
    "from sklearn.tree import DecisionTreeClassifier\n",
    "from sklearn.ensemble import RandomForestClassifier\n",
    "from sklearn.linear_model import SGDClassifier\n",
    "from sklearn.model_selection import GridSearchCV\n"
   ]
  },
  {
   "cell_type": "code",
   "execution_count": null,
   "metadata": {},
   "outputs": [],
   "source": [
    "df_positive = pd.read_pickle('daten/otto_amazon_variation_pairs.pkl', compression='gzip')\n",
    "df_positive.head(2)"
   ]
  },
  {
   "cell_type": "code",
   "execution_count": null,
   "metadata": {},
   "outputs": [],
   "source": [
    "df_negative = pd.read_excel('daten/negative_Otto_amazon.xlsx')\n",
    "df_negative.head(2)"
   ]
  },
  {
   "cell_type": "code",
   "execution_count": 45,
   "metadata": {},
   "outputs": [],
   "source": [
    "def sentece_embeding(positive_examples_a, positive_examples_b, negative_examples_a, negative_examples_b, model):\n",
    "    model = model\n",
    "    \n",
    "    positive_embeddings_a = model.encode(positive_examples_a, batch_size=32)\n",
    "    positive_embeddings_b = model.encode(positive_examples_b, batch_size=32)\n",
    "    positive_features = np.abs(positive_embeddings_a - positive_embeddings_b)\n",
    "    \n",
    "    negative_embeddings_a = model.encode(negative_examples_a, batch_size=32)\n",
    "    negative_embeddings_b = model.encode(negative_examples_b, batch_size=32)\n",
    "    negative_features = np.abs(negative_embeddings_a - negative_embeddings_b)\n",
    "    \n",
    "    return positive_features, negative_features"
   ]
  },
  {
   "cell_type": "code",
   "execution_count": 39,
   "metadata": {},
   "outputs": [],
   "source": [
    "def featureXlabels(positive_features, negative_features, test_size):\n",
    "    \n",
    "    positive_labels = np.ones(len(positive_features))\n",
    "    negative_labels = np.zeros(len(negative_features))\n",
    "    \n",
    "    X = np.concatenate([positive_features, negative_features], axis=0)\n",
    "    y = np.concatenate([positive_labels, negative_labels], axis=0)\n",
    "    \n",
    "    X_train, X_test, y_train, y_test = train_test_split(X, y, test_size=test_size, random_state=42)\n",
    "    \n",
    "    X_train = np.array(X_train)\n",
    "    y_train = np.array(y_train)\n",
    "    \n",
    "    return X_train, X_test, y_train, y_test\n",
    "\n"
   ]
  },
  {
   "cell_type": "code",
   "execution_count": 56,
   "metadata": {},
   "outputs": [],
   "source": [
    "pipeline = Pipeline([\n",
    "    ('clf', DecisionTreeClassifier())  # Placeholder, will be replaced by GridSearchCV\n",
    "])"
   ]
  },
  {
   "cell_type": "code",
   "execution_count": 57,
   "metadata": {},
   "outputs": [],
   "source": [
    "models = [\n",
    "    ('dt', DecisionTreeClassifier()),\n",
    "    ('rf', RandomForestClassifier()),\n",
    "    ('svm', SVC()),\n",
    "    ('sgd', SGDClassifier())\n",
    "]\n"
   ]
  },
  {
   "cell_type": "code",
   "execution_count": 55,
   "metadata": {},
   "outputs": [],
   "source": [
    "# Define the parameter grid\n",
    "param_grid = [\n",
    "    {\n",
    "        'clf': [DecisionTreeClassifier()], \n",
    "        'clf__max_depth': [5, 11]\n",
    "    },\n",
    "    {\n",
    "        'clf': [RandomForestClassifier()]\n",
    "        # You can add parameters for RandomForestClassifier here if needed\n",
    "    },\n",
    "    {\n",
    "        'clf': [SVC()],\n",
    "        'clf__kernel': ['linear', 'rbf']\n",
    "    },\n",
    "    {\n",
    "        'clf': [SGDClassifier()],\n",
    "        'clf__loss': ['hinge', 'log']\n",
    "    }\n",
    "]"
   ]
  },
  {
   "cell_type": "code",
   "execution_count": 43,
   "metadata": {},
   "outputs": [],
   "source": [
    "\n",
    "Sentencetransformer_model = SentenceTransformer(\"sentenceT/ausgabe/all-MiniLM-L6-v2-similar_otto_amazon_products-2024-03-02/\")"
   ]
  },
  {
   "cell_type": "code",
   "execution_count": 44,
   "metadata": {},
   "outputs": [],
   "source": [
    "df_positive_a = df_positive['amazon_product_name'].to_list()\n",
    "df_positive_b = df_positive['otto_variation_name'].to_list()\n",
    "df_negative_a = df_negative['amazon_product_name'].to_list()\n",
    "df_negative_b = df_negative['otto_variation_name'].to_list()"
   ]
  },
  {
   "cell_type": "code",
   "execution_count": 46,
   "metadata": {},
   "outputs": [],
   "source": [
    "positive_features, negative_features = sentece_embeding(df_positive_a, df_positive_b, df_negative_a, df_negative_b, Sentencetransformer_model)"
   ]
  },
  {
   "cell_type": "code",
   "execution_count": 48,
   "metadata": {},
   "outputs": [],
   "source": [
    "X_train, X_test, y_train, y_test = featureXlabels(positive_features, negative_features, test_size =0.2)"
   ]
  },
  {
   "cell_type": "code",
   "execution_count": 58,
   "metadata": {},
   "outputs": [
    {
     "name": "stdout",
     "output_type": "stream",
     "text": [
      "Fitting 5 folds for each of 7 candidates, totalling 35 fits\n",
      "[CV] END .....clf=DecisionTreeClassifier(), clf__max_depth=5; total time=  28.4s\n",
      "[CV] END .....clf=DecisionTreeClassifier(), clf__max_depth=5; total time=  27.9s\n",
      "[CV] END .....clf=DecisionTreeClassifier(), clf__max_depth=5; total time=  27.9s\n",
      "[CV] END .....clf=DecisionTreeClassifier(), clf__max_depth=5; total time=  27.9s\n",
      "[CV] END .....clf=DecisionTreeClassifier(), clf__max_depth=5; total time=  27.9s\n",
      "[CV] END ....clf=DecisionTreeClassifier(), clf__max_depth=11; total time=  56.3s\n",
      "[CV] END ....clf=DecisionTreeClassifier(), clf__max_depth=11; total time=  56.3s\n",
      "[CV] END ....clf=DecisionTreeClassifier(), clf__max_depth=11; total time=  56.2s\n",
      "[CV] END ....clf=DecisionTreeClassifier(), clf__max_depth=11; total time=  56.4s\n",
      "[CV] END ....clf=DecisionTreeClassifier(), clf__max_depth=11; total time=  56.4s\n",
      "[CV] END .......................clf=RandomForestClassifier(); total time=10.1min\n",
      "[CV] END .......................clf=RandomForestClassifier(); total time=10.2min\n",
      "[CV] END .......................clf=RandomForestClassifier(); total time=10.0min\n",
      "[CV] END .......................clf=RandomForestClassifier(); total time=10.0min\n",
      "[CV] END .......................clf=RandomForestClassifier(); total time=10.3min\n",
      "[CV] END ......................clf=SVC(), clf__kernel=linear; total time= 2.8min\n",
      "[CV] END ......................clf=SVC(), clf__kernel=linear; total time= 2.9min\n",
      "[CV] END ......................clf=SVC(), clf__kernel=linear; total time= 2.9min\n",
      "[CV] END ......................clf=SVC(), clf__kernel=linear; total time= 2.9min\n",
      "[CV] END ......................clf=SVC(), clf__kernel=linear; total time= 2.9min\n",
      "[CV] END .........................clf=SVC(), clf__kernel=rbf; total time=11.7min\n",
      "[CV] END .........................clf=SVC(), clf__kernel=rbf; total time=15.6min\n"
     ]
    }
   ],
   "source": [
    "grid_search = GridSearchCV(pipeline, param_grid, cv=5, verbose=2)\n",
    "grid_search.fit(X_train, y_train)"
   ]
  },
  {
   "cell_type": "markdown",
   "metadata": {},
   "source": []
  },
  {
   "cell_type": "markdown",
   "metadata": {},
   "source": []
  },
  {
   "cell_type": "code",
   "execution_count": null,
   "metadata": {},
   "outputs": [],
   "source": [
    "print(\"Beste Parameter:\", grid_search.best_params_)\n",
    "print(\"Beste Genauigkeit:\", grid_search.best_score_)\n"
   ]
  },
  {
   "cell_type": "code",
   "execution_count": null,
   "metadata": {},
   "outputs": [],
   "source": []
  }
 ],
 "metadata": {
  "kernelspec": {
   "display_name": "Python 3.9.13 ('bachelorarbeit': venv)",
   "language": "python",
   "name": "python3"
  },
  "language_info": {
   "codemirror_mode": {
    "name": "ipython",
    "version": 3
   },
   "file_extension": ".py",
   "mimetype": "text/x-python",
   "name": "python",
   "nbconvert_exporter": "python",
   "pygments_lexer": "ipython3",
   "version": "3.9.13"
  },
  "orig_nbformat": 4,
  "vscode": {
   "interpreter": {
    "hash": "3a6dcd5c1c1941ffa60e357ee1f7133a2c552a4a7fb1e2a5b3b962f361695b81"
   }
  }
 },
 "nbformat": 4,
 "nbformat_minor": 2
}
