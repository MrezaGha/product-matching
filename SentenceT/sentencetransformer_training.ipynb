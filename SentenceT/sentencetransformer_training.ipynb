{
 "cells": [
  {
   "cell_type": "code",
   "execution_count": 2,
   "metadata": {},
   "outputs": [
    {
     "name": "stderr",
     "output_type": "stream",
     "text": [
      "/Users/mohammadrezaghassemzadeh/Desktop/p-matching/product-matching/bachelorarbeit/lib/python3.9/site-packages/tqdm/auto.py:21: TqdmWarning: IProgress not found. Please update jupyter and ipywidgets. See https://ipywidgets.readthedocs.io/en/stable/user_install.html\n",
      "  from .autonotebook import tqdm as notebook_tqdm\n",
      "/var/folders/ts/4_j3m5qs2wvgc9jjm_yb5p1h0000gn/T/ipykernel_1435/570986289.py:4: DeprecationWarning: \n",
      "Pyarrow will become a required dependency of pandas in the next major release of pandas (pandas 3.0),\n",
      "(to allow more performant data types, such as the Arrow string type, and better interoperability with other libraries)\n",
      "but was not found to be installed on your system.\n",
      "If this would cause problems for you,\n",
      "please provide us feedback at https://github.com/pandas-dev/pandas/issues/54466\n",
      "        \n",
      "  import pandas as pd\n"
     ]
    }
   ],
   "source": [
    "from sentence_transformers import SentenceTransformer, InputExample\n",
    "from torch.utils.data import DataLoader\n",
    "from sentence_transformers import losses\n",
    "import pandas as pd \n",
    "import pickle\n",
    "from torch.utils.data import DataLoader\n",
    "import datetime\n",
    "from sentence_transformers.losses import CoSENTLoss, MatryoshkaLoss\n",
    "from sklearn.model_selection import train_test_split\n"
   ]
  },
  {
   "cell_type": "code",
   "execution_count": 3,
   "metadata": {},
   "outputs": [
    {
     "data": {
      "text/html": [
       "<div>\n",
       "<style scoped>\n",
       "    .dataframe tbody tr th:only-of-type {\n",
       "        vertical-align: middle;\n",
       "    }\n",
       "\n",
       "    .dataframe tbody tr th {\n",
       "        vertical-align: top;\n",
       "    }\n",
       "\n",
       "    .dataframe thead th {\n",
       "        text-align: right;\n",
       "    }\n",
       "</style>\n",
       "<table border=\"1\" class=\"dataframe\">\n",
       "  <thead>\n",
       "    <tr style=\"text-align: right;\">\n",
       "      <th></th>\n",
       "      <th>amazon_product_name</th>\n",
       "      <th>otto_variation_name</th>\n",
       "      <th>variation_id</th>\n",
       "      <th>variation_asin</th>\n",
       "      <th>product_asin</th>\n",
       "      <th>amazon_product_url</th>\n",
       "      <th>file_name_timestamp</th>\n",
       "      <th>amazon_product_url_zyte</th>\n",
       "      <th>amazon_main_imageurl</th>\n",
       "      <th>amazon_description</th>\n",
       "      <th>...</th>\n",
       "      <th>pdh_variation_h_sk</th>\n",
       "      <th>pdh_product_h_sk</th>\n",
       "      <th>product_id</th>\n",
       "      <th>pbk</th>\n",
       "      <th>product_type</th>\n",
       "      <th>otto_product_url</th>\n",
       "      <th>otto_main_imageurl</th>\n",
       "      <th>kategorie_direct_bezeichnung</th>\n",
       "      <th>kategorie_bezeichnung</th>\n",
       "      <th>sub_kategorie_bezeichnung</th>\n",
       "    </tr>\n",
       "  </thead>\n",
       "  <tbody>\n",
       "    <tr>\n",
       "      <th>0</th>\n",
       "      <td>Brother DCP-J1200W 3-in-1 Farbtintenstrahl-Mul...</td>\n",
       "      <td>Brother DCP-J1200W Tintenstrahldrucker, (WLAN ...</td>\n",
       "      <td>1459585412</td>\n",
       "      <td>B0972RD6F5</td>\n",
       "      <td>B0972RD6F5</td>\n",
       "      <td>https://www.amazon.de/dp/B0972RD6F5/</td>\n",
       "      <td>2023-10-23 02:47:47+00:00</td>\n",
       "      <td>https://www.amazon.de/Brother-DCP-J1200W-Farbt...</td>\n",
       "      <td>https://m.media-amazon.com/images/I/41jxuc8HZs...</td>\n",
       "      <td>Produktbeschreibung des Herstellers           ...</td>\n",
       "      <td>...</td>\n",
       "      <td>5d7afa8d68a6d88798dd37ed27093882</td>\n",
       "      <td>00b76adf49c4598d0a07b800e7958d36</td>\n",
       "      <td>1459585411</td>\n",
       "      <td>Drucker</td>\n",
       "      <td>Tintenstrahldrucker</td>\n",
       "      <td>https://otto.de/p/1459585411</td>\n",
       "      <td>https://i.otto.de/i/otto/bc4e3190-8618-54bf-b8...</td>\n",
       "      <td>Hardware</td>\n",
       "      <td>Multimedia &amp; Toys</td>\n",
       "      <td>Office Equipment, Mobile Computing &amp; Digital I...</td>\n",
       "    </tr>\n",
       "    <tr>\n",
       "      <th>1</th>\n",
       "      <td>AEG CCB544COBM 50 cm Standherd mit Glaskeramik...</td>\n",
       "      <td>AEG Elektro-Standherd CCB544COBM</td>\n",
       "      <td>1475311739</td>\n",
       "      <td>B0983HH8YJ</td>\n",
       "      <td>B0983HH8YJ</td>\n",
       "      <td>https://www.amazon.de/dp/B0983HH8YJ/</td>\n",
       "      <td>2023-11-10 01:13:44+00:00</td>\n",
       "      <td>https://www.amazon.de/AEG-CCB544COBM-Glaskeram...</td>\n",
       "      <td>https://m.media-amazon.com/images/I/71lHc-qSRT...</td>\n",
       "      <td>None</td>\n",
       "      <td>...</td>\n",
       "      <td>36643027eca54abd01e3d16fa0c3f313</td>\n",
       "      <td>0734c4795c54ca56c57c42174c79b9c2</td>\n",
       "      <td>1475296433</td>\n",
       "      <td>Herdsets</td>\n",
       "      <td>None</td>\n",
       "      <td>https://otto.de/p/1475296433</td>\n",
       "      <td>https://i.otto.de/i/otto/05f579c0-7391-5264-8e...</td>\n",
       "      <td>Hardware</td>\n",
       "      <td>Home Appliances</td>\n",
       "      <td>Built-In &amp; Cooking</td>\n",
       "    </tr>\n",
       "  </tbody>\n",
       "</table>\n",
       "<p>2 rows × 21 columns</p>\n",
       "</div>"
      ],
      "text/plain": [
       "                                 amazon_product_name  \\\n",
       "0  Brother DCP-J1200W 3-in-1 Farbtintenstrahl-Mul...   \n",
       "1  AEG CCB544COBM 50 cm Standherd mit Glaskeramik...   \n",
       "\n",
       "                                 otto_variation_name variation_id  \\\n",
       "0  Brother DCP-J1200W Tintenstrahldrucker, (WLAN ...   1459585412   \n",
       "1                   AEG Elektro-Standherd CCB544COBM   1475311739   \n",
       "\n",
       "  variation_asin product_asin                    amazon_product_url  \\\n",
       "0     B0972RD6F5   B0972RD6F5  https://www.amazon.de/dp/B0972RD6F5/   \n",
       "1     B0983HH8YJ   B0983HH8YJ  https://www.amazon.de/dp/B0983HH8YJ/   \n",
       "\n",
       "        file_name_timestamp  \\\n",
       "0 2023-10-23 02:47:47+00:00   \n",
       "1 2023-11-10 01:13:44+00:00   \n",
       "\n",
       "                             amazon_product_url_zyte  \\\n",
       "0  https://www.amazon.de/Brother-DCP-J1200W-Farbt...   \n",
       "1  https://www.amazon.de/AEG-CCB544COBM-Glaskeram...   \n",
       "\n",
       "                                amazon_main_imageurl  \\\n",
       "0  https://m.media-amazon.com/images/I/41jxuc8HZs...   \n",
       "1  https://m.media-amazon.com/images/I/71lHc-qSRT...   \n",
       "\n",
       "                                  amazon_description  ...  \\\n",
       "0  Produktbeschreibung des Herstellers           ...  ...   \n",
       "1                                               None  ...   \n",
       "\n",
       "                 pdh_variation_h_sk                  pdh_product_h_sk  \\\n",
       "0  5d7afa8d68a6d88798dd37ed27093882  00b76adf49c4598d0a07b800e7958d36   \n",
       "1  36643027eca54abd01e3d16fa0c3f313  0734c4795c54ca56c57c42174c79b9c2   \n",
       "\n",
       "   product_id       pbk         product_type              otto_product_url  \\\n",
       "0  1459585411   Drucker  Tintenstrahldrucker  https://otto.de/p/1459585411   \n",
       "1  1475296433  Herdsets                 None  https://otto.de/p/1475296433   \n",
       "\n",
       "                                  otto_main_imageurl  \\\n",
       "0  https://i.otto.de/i/otto/bc4e3190-8618-54bf-b8...   \n",
       "1  https://i.otto.de/i/otto/05f579c0-7391-5264-8e...   \n",
       "\n",
       "  kategorie_direct_bezeichnung kategorie_bezeichnung  \\\n",
       "0                     Hardware     Multimedia & Toys   \n",
       "1                     Hardware       Home Appliances   \n",
       "\n",
       "                           sub_kategorie_bezeichnung  \n",
       "0  Office Equipment, Mobile Computing & Digital I...  \n",
       "1                                 Built-In & Cooking  \n",
       "\n",
       "[2 rows x 21 columns]"
      ]
     },
     "execution_count": 3,
     "metadata": {},
     "output_type": "execute_result"
    }
   ],
   "source": [
    "df = pd.read_pickle(r'daten/otto_amazon_variation_pairs.pkl', compression='gzip')\n",
    "df.head(2)"
   ]
  },
  {
   "cell_type": "code",
   "execution_count": 4,
   "metadata": {},
   "outputs": [],
   "source": [
    "import pandas as pd\n",
    "import random\n",
    "\n",
    "def negative_examples(df, num_negatives_per_positive=1):\n",
    "    \"\"\"\n",
    "    hierbei sind die Produkte ähnlich, aebr nicht identisch \n",
    "    :return: DataFrame mit den negativen Beispielen.\n",
    "    \"\"\"\n",
    "    negative_examples = []\n",
    "    categories = df['kategorie_bezeichnung'].unique()\n",
    "\n",
    "    for _, row in df.iterrows():\n",
    "        for _ in range(num_negatives_per_positive):\n",
    "\n",
    "            current_category = row['kategorie_bezeichnung']\n",
    "            \n",
    "            # Produkte innerhalb der gleichen Kategorie, aber nicht das gleiche Produkt\n",
    "            similar_products = df[(df['kategorie_bezeichnung'] == current_category) & \n",
    "                                  (df['amazon_product_name'] != row['amazon_product_name']) &\n",
    "                                  (df['otto_variation_name'] != row['otto_variation_name'])]\n",
    "            \n",
    "            # Wenn es ähnliche Produkte gibt, wird eines zufällig als negatives Beispiel gewählt\n",
    "            if not similar_products.empty:\n",
    "                negative_example = similar_products.sample(1)\n",
    "                product1 = row['amazon_product_name']\n",
    "                product2 = negative_example['otto_variation_name'].values[0]\n",
    "                \n",
    "                negative_examples.append({'amazon_product_name': product1, 'otto_variation_name': product2})\n",
    "\n",
    "    return pd.DataFrame(negative_examples)"
   ]
  },
  {
   "cell_type": "code",
   "execution_count": 5,
   "metadata": {},
   "outputs": [],
   "source": [
    "df_negative = negative_examples(df, num_negatives_per_positive=1)"
   ]
  },
  {
   "cell_type": "code",
   "execution_count": 6,
   "metadata": {},
   "outputs": [],
   "source": [
    "positive_examples = [InputExample(texts=[str(row['amazon_product_name']), str(row['otto_variation_name'])]) for index, row in df.iterrows()]"
   ]
  },
  {
   "cell_type": "code",
   "execution_count": 7,
   "metadata": {},
   "outputs": [],
   "source": [
    "negative_examples = [InputExample(texts=[str(row['amazon_product_name']), str(row['otto_variation_name'])]) for index, row in df_negative.iterrows()]"
   ]
  },
  {
   "cell_type": "code",
   "execution_count": 8,
   "metadata": {},
   "outputs": [],
   "source": [
    "output_dir = r'/Users/mohammadrezaghassemzadeh/Desktop/p-matching/product-matching/SentenceT/ausgabe'\n",
    "base_model = 'all-MiniLM-L6-v2'\n",
    "epochs = 2\n",
    "model = SentenceTransformer(base_model)"
   ]
  },
  {
   "cell_type": "code",
   "execution_count": 9,
   "metadata": {},
   "outputs": [],
   "source": [
    "all_examples = positive_examples + negative_examples"
   ]
  },
  {
   "cell_type": "code",
   "execution_count": 59,
   "metadata": {},
   "outputs": [],
   "source": [
    "\"\"\" # für zeile in Tabele: amzon und otto in texte pacekn!!!!!!\n",
    "train_examples = [\n",
    "    InputExample(texts=[row['amazon_product_name'], row['otto_variation_name']])\n",
    "    for _, row in df.iterrows()\n",
    "] \"\"\""
   ]
  },
  {
   "cell_type": "code",
   "execution_count": 10,
   "metadata": {},
   "outputs": [],
   "source": [
    "train_data, validation_data = train_test_split(all_examples, test_size=0.1)"
   ]
  },
  {
   "cell_type": "code",
   "execution_count": 11,
   "metadata": {},
   "outputs": [],
   "source": [
    "train_dataloader = DataLoader(train_data, shuffle=True, batch_size=32)\n",
    "validation_dataloader = DataLoader(validation_data, shuffle=True, batch_size=32)"
   ]
  },
  {
   "cell_type": "code",
   "execution_count": null,
   "metadata": {},
   "outputs": [],
   "source": []
  },
  {
   "cell_type": "code",
   "execution_count": 12,
   "metadata": {},
   "outputs": [],
   "source": [
    "from sentence_transformers.evaluation import BinaryClassificationEvaluator\n",
    "evaluator = BinaryClassificationEvaluator.from_input_examples(validation_data, name='validation')"
   ]
  },
  {
   "cell_type": "code",
   "execution_count": 13,
   "metadata": {},
   "outputs": [],
   "source": [
    "train_loss = losses.MultipleNegativesRankingLoss(model=model)"
   ]
  },
  {
   "cell_type": "code",
   "execution_count": 14,
   "metadata": {},
   "outputs": [],
   "source": [
    "from sentence_transformers.losses import MatryoshkaLoss\n",
    "loss = losses.MatryoshkaLoss(model=base_model, loss=train_loss, matryoshka_dims=[768, 512, 256, 128, 64])"
   ]
  },
  {
   "cell_type": "code",
   "execution_count": null,
   "metadata": {},
   "outputs": [],
   "source": [
    "model.fit(\n",
    "    train_objectives=[(train_dataloader, train_loss)],\n",
    "    evaluator=evaluator,\n",
    "    epochs=epochs,\n",
    "    evaluation_steps=500,\n",
    "    use_amp=False\n",
    ")"
   ]
  },
  {
   "cell_type": "code",
   "execution_count": null,
   "metadata": {},
   "outputs": [],
   "source": [
    "timestamp = datetime.datetime.now().strftime(\"%Y-%m-%d\")\n",
    "model_name = f\"{base_model}-similar_otto_amazon_products-{timestamp}\"\n",
    "model.save(f\"{output_dir}/{model_name}\")\n"
   ]
  }
 ],
 "metadata": {
  "kernelspec": {
   "display_name": "Python 3.9.13 ('bachelorarbeit': venv)",
   "language": "python",
   "name": "python3"
  },
  "language_info": {
   "codemirror_mode": {
    "name": "ipython",
    "version": 3
   },
   "file_extension": ".py",
   "mimetype": "text/x-python",
   "name": "python",
   "nbconvert_exporter": "python",
   "pygments_lexer": "ipython3",
   "version": "3.9.13"
  },
  "orig_nbformat": 4,
  "vscode": {
   "interpreter": {
    "hash": "3a6dcd5c1c1941ffa60e357ee1f7133a2c552a4a7fb1e2a5b3b962f361695b81"
   }
  }
 },
 "nbformat": 4,
 "nbformat_minor": 2
}
